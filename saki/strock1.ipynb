{
 "cells": [
  {
   "cell_type": "code",
   "execution_count": 2,
   "metadata": {},
   "outputs": [],
   "source": [
    "import pandas as pd\n",
    "import numpy as np\n",
    "import seaborn as sns\n",
    "import matplotlib.pyplot as plt\n",
    "from sklearn.preprocessing import LabelEncoder, StandardScaler\n",
    "from sklearn.model_selection import train_test_split, GridSearchCV, cross_val_score\n",
    "from sklearn.ensemble import RandomForestClassifier\n",
    "from sklearn.metrics import accuracy_score, classification_report, confusion_matrix\n",
    "from sklearn.impute import SimpleImputer\n",
    "from imblearn.over_sampling import SMOTE\n",
    "import pickle\n",
    "from sklearn.linear_model import LogisticRegression\n",
    "from sklearn.tree import DecisionTreeClassifier\n",
    "from sklearn.svm import SVC\n",
    "\n",
    "# Load the dataset\n",
    "data = pd.read_csv(r'E:\\3rd Year 1st semi\\Fdm\\FDM_Project\\Strock Prediction\\Dataset\\healthcare-dataset-stroke-data.csv')\n",
    "\n",
    "# Impute missing values in 'bmi' using mean\n",
    "imputer = SimpleImputer(strategy='mean')\n",
    "data['bmi'] = imputer.fit_transform(data[['bmi']])\n",
    "\n",
    "# Drop 'id' column\n",
    "data.drop('id', axis=1, inplace=True)\n",
    "\n",
    "# Label encoding for categorical features\n",
    "label_encoders = {}\n",
    "categorical_columns = ['gender', 'ever_married', 'work_type', 'Residence_type', 'smoking_status']\n",
    "for col in categorical_columns:\n",
    "    label_encoders[col] = LabelEncoder()\n",
    "    data[col] = label_encoders[col].fit_transform(data[col])"
   ]
  },
  {
   "cell_type": "code",
   "execution_count": 3,
   "metadata": {},
   "outputs": [],
   "source": [
    "# Check for duplicates\n",
    "data.drop_duplicates(inplace=True)\n",
    "\n",
    "# Separate features and target variable\n",
    "X = data.drop(columns=['stroke'])  # Features (independent variables)\n",
    "y = data['stroke']  # Target (dependent variable)\n",
    "\n",
    "# Scale numerical features\n",
    "scaler = StandardScaler()\n",
    "numerical_columns = ['age', 'avg_glucose_level', 'bmi']\n",
    "X[numerical_columns] = scaler.fit_transform(X[numerical_columns])"
   ]
  },
  {
   "cell_type": "code",
   "execution_count": 11,
   "metadata": {},
   "outputs": [
    {
     "name": "stdout",
     "output_type": "stream",
     "text": [
      "\n",
      "Training and Test Data Sizes:\n",
      "Training Data: (4088, 10), Test Data: (1022, 10)\n"
     ]
    }
   ],
   "source": [
    "# Step 5: Splitting the Dataset into Training and Test Sets\n",
    "X_train, X_test, y_train, y_test = train_test_split(X, y, test_size=0.2, random_state=42)\n",
    "\n",
    "print(\"\\nTraining and Test Data Sizes:\")\n",
    "print(f\"Training Data: {X_train.shape}, Test Data: {X_test.shape}\")"
   ]
  },
  {
   "cell_type": "code",
   "execution_count": 12,
   "metadata": {},
   "outputs": [
    {
     "name": "stdout",
     "output_type": "stream",
     "text": [
      "Random Forest Accuracy: 94.03%\n",
      "\n",
      "Confusion Matrix:\n",
      "[[960   0]\n",
      " [ 61   1]]\n",
      "\n",
      "Classification Report:\n",
      "              precision    recall  f1-score   support\n",
      "\n",
      "           0       0.94      1.00      0.97       960\n",
      "           1       1.00      0.02      0.03        62\n",
      "\n",
      "    accuracy                           0.94      1022\n",
      "   macro avg       0.97      0.51      0.50      1022\n",
      "weighted avg       0.94      0.94      0.91      1022\n",
      "\n"
     ]
    }
   ],
   "source": [
    "# Train Random Forest model\n",
    "rf_model = RandomForestClassifier()\n",
    "rf_model.fit(X_train, y_train)\n",
    "\n",
    "# Make predictions\n",
    "y_pred_rf = rf_model.predict(X_test)\n",
    "\n",
    "# Evaluate Random Forest\n",
    "accuracy_rf = accuracy_score(y_test, y_pred_rf)\n",
    "print(f\"Random Forest Accuracy: {accuracy_rf * 100:.2f}%\")\n",
    "\n",
    "# Confusion Matrix\n",
    "print(\"\\nConfusion Matrix:\")\n",
    "print(confusion_matrix(y_test, y_pred_rf))\n",
    "\n",
    "# Classification report\n",
    "print(\"\\nClassification Report:\")\n",
    "print(classification_report(y_test, y_pred_rf))\n",
    "\n",
    "\n",
    "\n"
   ]
  },
  {
   "cell_type": "code",
   "execution_count": 13,
   "metadata": {},
   "outputs": [
    {
     "name": "stdout",
     "output_type": "stream",
     "text": [
      "Decision Tree Accuracy: 91.19%\n",
      "\n",
      "Confusion Matrix:\n",
      "[[960   0]\n",
      " [ 61   1]]\n",
      "\n",
      "Classification Report:\n",
      "              precision    recall  f1-score   support\n",
      "\n",
      "           0       0.95      0.96      0.95       960\n",
      "           1       0.22      0.18      0.20        62\n",
      "\n",
      "    accuracy                           0.91      1022\n",
      "   macro avg       0.58      0.57      0.57      1022\n",
      "weighted avg       0.90      0.91      0.91      1022\n",
      "\n"
     ]
    }
   ],
   "source": [
    "# Train Decision Tree model\n",
    "dt_model = DecisionTreeClassifier()\n",
    "dt_model.fit(X_train, y_train)\n",
    "\n",
    "# Make predictions\n",
    "y_pred_dt = dt_model.predict(X_test)\n",
    "\n",
    "# Evaluate Decision Tree\n",
    "accuracy_dt = accuracy_score(y_test, y_pred_dt)\n",
    "print(f\"Decision Tree Accuracy: {accuracy_dt * 100:.2f}%\")\n",
    "\n",
    "# Confusion Matrix\n",
    "print(\"\\nConfusion Matrix:\")\n",
    "print(confusion_matrix(y_test, y_pred_rf))\n",
    "# Classification report\n",
    "print(\"\\nClassification Report:\")\n",
    "print(classification_report(y_test, y_pred_dt))\n"
   ]
  },
  {
   "cell_type": "code",
   "execution_count": 14,
   "metadata": {},
   "outputs": [],
   "source": [
    "# Train-test split\n",
    "X_train, X_test, y_train, y_test = train_test_split(X, y, test_size=0.2, random_state=42)\n",
    "\n",
    "# Apply SMOTE for balancing the dataset\n",
    "smote = SMOTE(random_state=42)\n",
    "X_smote, y_smote = smote.fit_resample(X_train, y_train)\n",
    "\n",
    "# Scale numerical features after SMOTE\n",
    "X_smote[numerical_columns] = scaler.fit_transform(X_smote[numerical_columns])"
   ]
  },
  {
   "cell_type": "code",
   "execution_count": 15,
   "metadata": {},
   "outputs": [
    {
     "name": "stdout",
     "output_type": "stream",
     "text": [
      "Logistic Regression Accuracy: 58.41%\n",
      "\n",
      "Classification Report:\n",
      "              precision    recall  f1-score   support\n",
      "\n",
      "           0       0.99      0.57      0.72       960\n",
      "           1       0.11      0.87      0.20        62\n",
      "\n",
      "    accuracy                           0.58      1022\n",
      "   macro avg       0.55      0.72      0.46      1022\n",
      "weighted avg       0.93      0.58      0.69      1022\n",
      "\n",
      "\n",
      "Confusion Matrix:\n",
      "[[543 417]\n",
      " [  8  54]]\n"
     ]
    }
   ],
   "source": [
    "### Model Training and Evaluation\n",
    "\n",
    "# Logistic Regression\n",
    "log_model = LogisticRegression()\n",
    "log_model.fit(X_smote, y_smote)\n",
    "y_pred_log = log_model.predict(X_test)\n",
    "\n",
    "# Evaluate Logistic Regression\n",
    "accuracy_log = accuracy_score(y_test, y_pred_log)\n",
    "print(f\"Logistic Regression Accuracy: {accuracy_log * 100:.2f}%\")\n",
    "print(\"\\nClassification Report:\")\n",
    "print(classification_report(y_test, y_pred_log))\n",
    "print(\"\\nConfusion Matrix:\")\n",
    "print(confusion_matrix(y_test, y_pred_log))\n"
   ]
  },
  {
   "cell_type": "code",
   "execution_count": 16,
   "metadata": {},
   "outputs": [
    {
     "name": "stdout",
     "output_type": "stream",
     "text": [
      "Best Hyperparameters for Random Forest: {'max_depth': None, 'min_samples_leaf': 1, 'min_samples_split': 2, 'n_estimators': 300}\n",
      "Best Cross-Validated Accuracy: 0.9397600157689844\n"
     ]
    }
   ],
   "source": [
    "# Random Forest with Hyperparameter Tuning\n",
    "param_grid_rf = {\n",
    "    'n_estimators': [100, 200, 300],\n",
    "    'max_depth': [5, 10, None],  # Limiting maximum depth\n",
    "    'min_samples_split': [2, 5],\n",
    "    'min_samples_leaf': [1, 2]\n",
    "}\n",
    "rf = RandomForestClassifier(random_state=42)\n",
    "grid_search_rf = GridSearchCV(rf, param_grid_rf, cv=5, scoring='accuracy', n_jobs=-1)\n",
    "grid_search_rf.fit(X_smote, y_smote)\n",
    "\n",
    "print(\"Best Hyperparameters for Random Forest:\", grid_search_rf.best_params_)\n",
    "print(\"Best Cross-Validated Accuracy:\", grid_search_rf.best_score_)"
   ]
  },
  {
   "cell_type": "code",
   "execution_count": 17,
   "metadata": {},
   "outputs": [
    {
     "name": "stdout",
     "output_type": "stream",
     "text": [
      "Random Forest Accuracy after tuning: 80.43%\n",
      "\n",
      "Confusion Matrix:\n",
      "[[803 157]\n",
      " [ 43  19]]\n",
      "\n",
      "Classification Report:\n",
      "              precision    recall  f1-score   support\n",
      "\n",
      "           0       0.95      0.84      0.89       960\n",
      "           1       0.11      0.31      0.16        62\n",
      "\n",
      "    accuracy                           0.80      1022\n",
      "   macro avg       0.53      0.57      0.52      1022\n",
      "weighted avg       0.90      0.80      0.84      1022\n",
      "\n"
     ]
    }
   ],
   "source": [
    "# Evaluate Random Forest on Test Set\n",
    "best_rf = grid_search_rf.best_estimator_\n",
    "y_pred_rf = best_rf.predict(X_test)\n",
    "accuracy_rf = accuracy_score(y_test, y_pred_rf)\n",
    "print(f\"Random Forest Accuracy after tuning: {accuracy_rf * 100:.2f}%\")\n",
    "print(\"\\nConfusion Matrix:\")\n",
    "print(confusion_matrix(y_test, y_pred_rf))\n",
    "print(\"\\nClassification Report:\")\n",
    "print(classification_report(y_test, y_pred_rf))\n"
   ]
  },
  {
   "cell_type": "code",
   "execution_count": 18,
   "metadata": {},
   "outputs": [
    {
     "name": "stdout",
     "output_type": "stream",
     "text": [
      "Decision Tree Accuracy: 56.95%\n",
      "\n",
      "Confusion Matrix:\n",
      "[[541 419]\n",
      " [ 21  41]]\n",
      "\n",
      "Classification Report:\n",
      "              precision    recall  f1-score   support\n",
      "\n",
      "           0       0.96      0.56      0.71       960\n",
      "           1       0.09      0.66      0.16        62\n",
      "\n",
      "    accuracy                           0.57      1022\n",
      "   macro avg       0.53      0.61      0.43      1022\n",
      "weighted avg       0.91      0.57      0.68      1022\n",
      "\n"
     ]
    }
   ],
   "source": [
    "# Decision Tree with Reduced Complexity\n",
    "dt_model = DecisionTreeClassifier(max_depth=5, min_samples_split=5)  # Limit complexity\n",
    "dt_model.fit(X_smote, y_smote)\n",
    "y_pred_dt = dt_model.predict(X_test)\n",
    "accuracy_dt = accuracy_score(y_test, y_pred_dt)\n",
    "print(f\"Decision Tree Accuracy: {accuracy_dt * 100:.2f}%\")\n",
    "print(\"\\nConfusion Matrix:\")\n",
    "print(confusion_matrix(y_test, y_pred_dt))\n",
    "print(\"\\nClassification Report:\")\n",
    "print(classification_report(y_test, y_pred_dt))"
   ]
  },
  {
   "cell_type": "code",
   "execution_count": 19,
   "metadata": {},
   "outputs": [
    {
     "name": "stdout",
     "output_type": "stream",
     "text": [
      "SVM Accuracy: 56.36%\n",
      "\n",
      "Confusion Matrix:\n",
      "[[522 438]\n",
      " [  8  54]]\n",
      "\n",
      "Classification Report:\n",
      "              precision    recall  f1-score   support\n",
      "\n",
      "           0       0.98      0.54      0.70       960\n",
      "           1       0.11      0.87      0.19        62\n",
      "\n",
      "    accuracy                           0.56      1022\n",
      "   macro avg       0.55      0.71      0.45      1022\n",
      "weighted avg       0.93      0.56      0.67      1022\n",
      "\n"
     ]
    }
   ],
   "source": [
    "# Support Vector Machine with Regularization\n",
    "svm_model = SVC(C=1.0, kernel='linear')  # Regularization parameter C\n",
    "svm_model.fit(X_smote, y_smote)\n",
    "y_pred_svm = svm_model.predict(X_test)\n",
    "accuracy_svm = accuracy_score(y_test, y_pred_svm)\n",
    "print(f\"SVM Accuracy: {accuracy_svm * 100:.2f}%\")\n",
    "print(\"\\nConfusion Matrix:\")\n",
    "print(confusion_matrix(y_test, y_pred_svm))\n",
    "print(\"\\nClassification Report:\")\n",
    "print(classification_report(y_test, y_pred_svm))"
   ]
  }
 ],
 "metadata": {
  "kernelspec": {
   "display_name": "Python 3",
   "language": "python",
   "name": "python3"
  },
  "language_info": {
   "codemirror_mode": {
    "name": "ipython",
    "version": 3
   },
   "file_extension": ".py",
   "mimetype": "text/x-python",
   "name": "python",
   "nbconvert_exporter": "python",
   "pygments_lexer": "ipython3",
   "version": "3.12.6"
  }
 },
 "nbformat": 4,
 "nbformat_minor": 2
}
